{
 "cells": [
  {
   "cell_type": "markdown",
   "metadata": {},
   "source": [
    "## Question 1:"
   ]
  },
  {
   "cell_type": "code",
   "execution_count": 2,
   "metadata": {},
   "outputs": [
    {
     "name": "stdout",
     "output_type": "stream",
     "text": [
      "Enter the email address: john@google.com\n",
      "google\n"
     ]
    }
   ],
   "source": [
    "if __name__ == \"__main__\":\n",
    "    inp = input(\"Enter the email address: \")\n",
    "    for c in inp:\n",
    "        if c == '@':\n",
    "            s = inp.index(c)+1\n",
    "        if c == '.' and  inp[inp.index(c)+1] == 'c':\n",
    "            e = inp.index(c)\n",
    "    company_name = inp[s:e]\n",
    "    print(company_name)"
   ]
  },
  {
   "cell_type": "markdown",
   "metadata": {},
   "source": [
    "## Question 2:"
   ]
  },
  {
   "cell_type": "code",
   "execution_count": 4,
   "metadata": {},
   "outputs": [
    {
     "name": "stdout",
     "output_type": "stream",
     "text": [
      "Enter the list of words: without,hello,bag,world\n",
      "Sorted list is:  bag,hello,without,world\n"
     ]
    }
   ],
   "source": [
    "def stroutput(l):\n",
    "    n = len(l)\n",
    "    ostr = \"\"\n",
    "    for i in l:\n",
    "        ostr = ostr + i\n",
    "        if l.index(i) != n-1 :\n",
    "            ostr = ostr + ','\n",
    "    return ostr\n",
    "\n",
    "if __name__ == \"__main__\":\n",
    "    inp = input(\"Enter the list of words: \").split(',')\n",
    "    inp.sort()\n",
    "    print(\"Sorted list is: \", stroutput(inp))  "
   ]
  },
  {
   "cell_type": "markdown",
   "metadata": {},
   "source": [
    "## Question 3:"
   ]
  },
  {
   "cell_type": "code",
   "execution_count": 11,
   "metadata": {},
   "outputs": [
    {
     "name": "stdout",
     "output_type": "stream",
     "text": [
      "a set Hello ! This is {'a', 'banana', 'set', 'Hello', '!', 'This', 'is'}\n",
      "{'yellow', 'purple', 'a', 'red', 'banana', 'blue', 'set', 'Hello', '!', 'This', 'is', 'green'}\n",
      "{'yellow', 'purple', 'a', 'red', 'set', 'Hello', '!', 'This', 'is', 'green'}\n",
      "{'purple', 'a', 'red', 'set', 'Hello', '!', 'This', 'is', 'green'}\n",
      "{'hoppitty', 'purple', 'a', 'hippity', 'set', 'This', 'is', 'property', 'green', 'now', 'red', 'this', 'Hello', '!', 'my'}\n",
      "set()\n"
     ]
    }
   ],
   "source": [
    "# This section explains sets:\n",
    "'''Sets are unordered and unindexed arrangement of elements. Sets are declared using '{' & '}'.'''\n",
    "aset = {'Hello', '!', 'This', 'is', 'a', 'set', '!'}\n",
    "\n",
    "# To access items a for loop can be used to iterate in a set.\n",
    "for i in aset:\n",
    "    print(i,end=\" \")\n",
    "# sets do not store duplicate values\n",
    "\n",
    "# to add an element:\n",
    "aset.add('banana')\n",
    "print(aset)\n",
    "\n",
    "# to add multiple items:\n",
    "aset.update(['red', 'yellow', 'purple', 'banana', 'green', 'blue'])\n",
    "print(aset)\n",
    "\n",
    "#to remove an item:\n",
    "aset.remove('banana')\n",
    "#or\n",
    "aset.discard('blue')\n",
    "print(aset)\n",
    "\n",
    "# use set.pop() to remove the last item\n",
    "aset.pop()\n",
    "print(aset)\n",
    "\n",
    "#to join 2 sets\n",
    "oset = {'hippity', 'hoppitty', 'this', 'is', 'set', 'now', 'my', 'property'}\n",
    "aset.update(oset)\n",
    "print(aset)\n",
    "\n",
    "# to empty an set:\n",
    "aset.clear()\n",
    "print(aset)"
   ]
  },
  {
   "cell_type": "markdown",
   "metadata": {},
   "source": [
    "## Question 4:"
   ]
  },
  {
   "cell_type": "code",
   "execution_count": 17,
   "metadata": {},
   "outputs": [
    {
     "name": "stdout",
     "output_type": "stream",
     "text": [
      "Enter the value of n: 8\n",
      "input the list of number : 1 2 4 6 3 7 8\n",
      "5\n"
     ]
    }
   ],
   "source": [
    "def findmissing(l,n):\n",
    "    nums = list(range(1,n+1))\n",
    "    for i in l:\n",
    "        nums.remove(i)\n",
    "    return nums[0]\n",
    "    \n",
    "if __name__ == \"__main__\":\n",
    "    n = int(input(\"Enter the value of n: \"))\n",
    "    inp = list(map(int,input(\"Enter the list of numbers : \").split()))\n",
    "    print(findmissing(inp,n))"
   ]
  },
  {
   "cell_type": "markdown",
   "metadata": {},
   "source": [
    "## Question 5:"
   ]
  },
  {
   "cell_type": "code",
   "execution_count": 18,
   "metadata": {},
   "outputs": [
    {
     "name": "stdout",
     "output_type": "stream",
     "text": [
      "Enter the list of numbers : 12 24 35 24 88 120 155 88 120 155\n",
      "[155, 120, 88, 35, 24, 12]\n"
     ]
    }
   ],
   "source": [
    "def remove_duplicates_and_reverse_the_order(l):\n",
    "    m = []\n",
    "    for i in l:\n",
    "        if i not in m:\n",
    "            m.append(i)\n",
    "    return m[::-1]\n",
    "\n",
    "if __name__ == \"__main__\":\n",
    "    inp = list(map(int,input(\"Enter the list of numbers : \").split()))\n",
    "    print(remove_duplicates_and_reverse_the_order(inp))"
   ]
  }
 ],
 "metadata": {
  "kernelspec": {
   "display_name": "Python 3",
   "language": "python",
   "name": "python3"
  },
  "language_info": {
   "codemirror_mode": {
    "name": "ipython",
    "version": 3
   },
   "file_extension": ".py",
   "mimetype": "text/x-python",
   "name": "python",
   "nbconvert_exporter": "python",
   "pygments_lexer": "ipython3",
   "version": "3.7.1"
  }
 },
 "nbformat": 4,
 "nbformat_minor": 2
}
