{
 "cells": [
  {
   "cell_type": "markdown",
   "metadata": {},
   "source": [
    "## Question 1:"
   ]
  },
  {
   "cell_type": "code",
   "execution_count": 46,
   "metadata": {},
   "outputs": [
    {
     "name": "stdout",
     "output_type": "stream",
     "text": [
      "List of  first 20 non-even prime natural numbers is : [3, 5, 7, 11, 13, 17, 19, 23, 29, 31, 37, 41, 43, 47, 53, 59, 61, 67, 71, 73]\n"
     ]
    }
   ],
   "source": [
    "def isprime(n):\n",
    "    if n > 1:  \n",
    "        for i in range(2,int(n/2)):  \n",
    "            if (n % i) == 0: return False    \n",
    "        return True \n",
    "    else:  return False\n",
    "    \n",
    "    \n",
    "if __name__ == \"__main__\":\n",
    "    primes = []\n",
    "    i = 1\n",
    "    while len(primes)<20:\n",
    "        if isprime(i):\n",
    "            primes.append(i)\n",
    "        i+=2\n",
    "\n",
    "\n",
    "    print(\"List of  first 20 non-even prime natural numbers is :\",primes)\n"
   ]
  },
  {
   "cell_type": "markdown",
   "metadata": {},
   "source": [
    "## Question 2:"
   ]
  },
  {
   "cell_type": "code",
   "execution_count": 41,
   "metadata": {},
   "outputs": [
    {
     "name": "stdout",
     "output_type": "stream",
     "text": [
      " dr. darshan ingle @ai-ml trainer   \n",
      " DR. DARSHAN INGLE @AI-ML TRAINER   \n",
      " dr. darshan ingle @ai-ml trainer   \n",
      " Dr. Darshan Ingle @Ai-Ml Trainer   \n",
      "False\n",
      "False\n",
      "3\n",
      "13\n",
      "Dr. Darshan ingle @AI-ML trainer\n",
      "['Dr.', 'Darshan', 'ingle', '@AI-ML', 'trainer']\n",
      " dR. dARSHAN INGLE @ai-ml TRAINER   \n",
      " Dr. Darshan ingla @AI-ML trainar   \n",
      "15\n",
      "False\n",
      "                                 Dr. Darshan ingle @AI-ML trainer                                   \n"
     ]
    }
   ],
   "source": [
    "'''The Following program implements 15 string functions on the given string'''\n",
    "if __name__ == \"__main__\":\n",
    "    string = \" Dr. Darshan ingle @AI-ML trainer   \"\n",
    "\n",
    "    print(string.lower())         #1\n",
    "    print(string.upper())         #2\n",
    "    print(string.capitalize())    #3\n",
    "    print(string.title())         #4\n",
    "    print(string.islower())       #5\n",
    "    print(string.isupper())       #6\n",
    "    print(string.count('a'))      #7\n",
    "    print(string.index('ing'))    #8\n",
    "    print(string.strip())         #9\n",
    "    print(string.split())         #10\n",
    "    print(string.swapcase())      #11\n",
    "    print(string.replace('e','a'))#12\n",
    "    print(string.find('g'))       #13\n",
    "    print(string.isalpha())       #14\n",
    "    print(string.center(100))     #15"
   ]
  },
  {
   "cell_type": "markdown",
   "metadata": {},
   "source": [
    "## Question 3:"
   ]
  },
  {
   "cell_type": "code",
   "execution_count": 50,
   "metadata": {},
   "outputs": [
    {
     "name": "stdout",
     "output_type": "stream",
     "text": [
      "Enter the First string abba\n",
      "Enter the Second string baab\n",
      "First is a Palindrome. Second String is a Palindrome. Both strings are an anagram of each other.\n"
     ]
    }
   ],
   "source": [
    "def ispalindrome(n):\n",
    "    if n == n[::-1]:\n",
    "        return True\n",
    "    return False\n",
    "def isanagram(m,n):\n",
    "    if sorted(m)==sorted(n):\n",
    "        return True\n",
    "    return False\n",
    "\n",
    "\n",
    "if __name__ == \"__main__\":\n",
    "    s1 = input(\"Enter the First string \")\n",
    "    s2 = input(\"Enter the Second string \")\n",
    "    if ispalindrome(s1):\n",
    "        pal1 = \"a Palindrome\"\n",
    "    else : pal1 = \"not a Palindrome\"\n",
    "    if ispalindrome(s2):\n",
    "        pal2 = \"a Palindrome\"\n",
    "    else : pal2 = \"not a Palindrome\"\n",
    "    if isanagram(s1,s2):\n",
    "        ana = \"an anagram\"\n",
    "    else : ana = \"not an anagram\"\n",
    "    \n",
    "    print(\"First is \"+pal1+\". Second String is \"+pal2+\". Both strings are \"+ana+\" of each other.\")\n",
    "    "
   ]
  },
  {
   "cell_type": "markdown",
   "metadata": {},
   "source": [
    "## Question 4:"
   ]
  },
  {
   "cell_type": "code",
   "execution_count": 43,
   "metadata": {},
   "outputs": [
    {
     "name": "stdout",
     "output_type": "stream",
     "text": [
      "drdarshaningleaimltrainer\n"
     ]
    }
   ],
   "source": [
    "def removecharacters(n):\n",
    "    n = n.lower()\n",
    "    for c in n:\n",
    "        if c == '@' or c==' ' or c=='.' or c=='&' or c=='$' or c=='%'or c=='?'or c=='#' or c=='*' or c=='-' or c=='/' or c=='+':\n",
    "            i = n.index(c)\n",
    "            n = n[:i]+n[i+1:]\n",
    "    return n\n",
    "\n",
    "\n",
    "if __name__ == \"__main__\":\n",
    "    string =  \"Dr. Darshan Ingle@AI-ML Trainer\"\n",
    "    print(removecharacters(string))"
   ]
  }
 ],
 "metadata": {
  "kernelspec": {
   "display_name": "Python 3",
   "language": "python",
   "name": "python3"
  },
  "language_info": {
   "codemirror_mode": {
    "name": "ipython",
    "version": 3
   },
   "file_extension": ".py",
   "mimetype": "text/x-python",
   "name": "python",
   "nbconvert_exporter": "python",
   "pygments_lexer": "ipython3",
   "version": "3.7.1"
  }
 },
 "nbformat": 4,
 "nbformat_minor": 2
}
