{
 "cells": [
  {
   "cell_type": "markdown",
   "metadata": {},
   "source": [
    "##Question 1:"
   ]
  },
  {
   "cell_type": "code",
   "execution_count": 15,
   "metadata": {},
   "outputs": [
    {
     "name": "stdout",
     "output_type": "stream",
     "text": [
      "Provide input as 2 seperated integers real part and imaginary part.\n",
      "Enter the First Complex number.5 6\n",
      "Enter the Second Complex number.4 2\n",
      "Difference is: (1+4j)\n"
     ]
    }
   ],
   "source": [
    "import cmath\n",
    "print(\"Provide input as 2 seperated integers real part and imaginary part.\")\n",
    "x, y = map(int,input(\"Enter the First Complex number.\").split())\n",
    "a, b = map(int,input(\"Enter the Second Complex number.\").split())\n",
    "print(\"Difference is:\",complex(x,y)-complex(a,b))\n"
   ]
  },
  {
   "cell_type": "markdown",
   "metadata": {},
   "source": [
    "##Question 2:"
   ]
  },
  {
   "cell_type": "code",
   "execution_count": 16,
   "metadata": {},
   "outputs": [
    {
     "name": "stdout",
     "output_type": "stream",
     "text": [
      "Enter the Number: 16\n",
      "Fourth root of the number is: 2.0\n"
     ]
    }
   ],
   "source": [
    "x = int(input(\"Enter the Number: \"))\n",
    "print(\"Fourth root of the number is:\", x**(1/4))"
   ]
  },
  {
   "cell_type": "markdown",
   "metadata": {},
   "source": [
    "##Question 3:"
   ]
  },
  {
   "cell_type": "code",
   "execution_count": 17,
   "metadata": {},
   "outputs": [
    {
     "name": "stdout",
     "output_type": "stream",
     "text": [
      "Enter the First Number x: 5\n",
      "Enter the Second Number y: 6\n",
      "Value of x:  6\n",
      "Value of y:  5\n"
     ]
    }
   ],
   "source": [
    "x = int(input(\"Enter the First Number x: \"))\n",
    "y = int(input(\"Enter the Second Number y: \"))\n",
    "t = x\n",
    "x = y\n",
    "y = t\n",
    "print(\"Value of x: \", x)\n",
    "print(\"Value of y: \", y)"
   ]
  },
  {
   "cell_type": "markdown",
   "metadata": {},
   "source": [
    "##Question 4:"
   ]
  },
  {
   "cell_type": "code",
   "execution_count": 18,
   "metadata": {},
   "outputs": [
    {
     "name": "stdout",
     "output_type": "stream",
     "text": [
      "Enter the First Number x: 2\n",
      "Enter the Second Number y: 4\n",
      "Value of x:  4\n",
      "Value of y:  2\n"
     ]
    }
   ],
   "source": [
    "x = int(input(\"Enter the First Number x: \"))\n",
    "y = int(input(\"Enter the Second Number y: \"))\n",
    "y = x + y\n",
    "x = y - x\n",
    "y = y - x\n",
    "print(\"Value of x: \", x)\n",
    "print(\"Value of y: \", y)"
   ]
  },
  {
   "cell_type": "markdown",
   "metadata": {},
   "source": [
    "##Question 5:"
   ]
  },
  {
   "cell_type": "code",
   "execution_count": 19,
   "metadata": {},
   "outputs": [
    {
     "name": "stdout",
     "output_type": "stream",
     "text": [
      "<class 'int'>\n",
      "<class 'float'>\n",
      "<class 'str'>\n",
      "<class 'tuple'>\n",
      "<class 'list'>\n",
      "<class 'set'>\n",
      "<class 'dict'>\n"
     ]
    }
   ],
   "source": [
    "x = 1\n",
    "print(type(x))\n",
    "x = 1.01\n",
    "print(type(x))\n",
    "x = \"1\"\n",
    "print(type(x))\n",
    "x = (1, 2)\n",
    "print(type(x))\n",
    "x = [1, 2]\n",
    "print(type(x))\n",
    "x = {1, 2}\n",
    "print(type(x))\n",
    "x = {1:2}\n",
    "print(type(x))"
   ]
  },
  {
   "cell_type": "markdown",
   "metadata": {},
   "source": [
    "##Question 6:"
   ]
  },
  {
   "cell_type": "markdown",
   "metadata": {},
   "source": [
    "#Steps to create Githhub Profile:\n",
    "1. Go to github.com\n",
    "2. Sign In or create a new Account using google Id.\n",
    "3. Create a new repository named \"LetsUpgrade-AI-ML\"\n",
    "4. Upload assignments in a daywise manner to the created repository.\n",
    "5. Copy the link to the uploaded assignment and submit the link using the google forms."
   ]
  }
 ],
 "metadata": {
  "kernelspec": {
   "display_name": "Python 3",
   "language": "python",
   "name": "python3"
  },
  "language_info": {
   "codemirror_mode": {
    "name": "ipython",
    "version": 3
   },
   "file_extension": ".py",
   "mimetype": "text/x-python",
   "name": "python",
   "nbconvert_exporter": "python",
   "pygments_lexer": "ipython3",
   "version": "3.7.1"
  }
 },
 "nbformat": 4,
 "nbformat_minor": 2
}
